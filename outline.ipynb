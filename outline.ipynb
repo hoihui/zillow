{
 "cells": [
  {
   "cell_type": "code",
   "execution_count": null,
   "metadata": {},
   "outputs": [],
   "source": [
    "%load_ext Cython\n",
    "import os,sys,random,datetime,time,itertools\n",
    "import cPickle as pickle, numpy as np, pandas as pd\n",
    "import gc\n",
    "from sklearn.linear_model import RidgeCV\n",
    "from sklearn.preprocessing import MinMaxScaler\n",
    "from sklearn.model_selection import KFold\n",
    "from sklearn.base import BaseEstimator, TransformerMixin\n",
    "from sklearn.metrics import mean_absolute_error\n",
    "import xgboost as xgb\n",
    "import lightgbm as lgb"
   ]
  },
  {
   "cell_type": "markdown",
   "metadata": {},
   "source": [
    "# Load Data"
   ]
  },
  {
   "cell_type": "markdown",
   "metadata": {},
   "source": [
    "## Compute pairwise distances"
   ]
  },
  {
   "cell_type": "code",
   "execution_count": null,
   "metadata": {
    "collapsed": true
   },
   "outputs": [],
   "source": [
    "prop=pd.read_csv('raw/properties_2016.csv.zip',usecols=['parcelid','latitude','longitude'],index_col=0)\n",
    "prop['latitude'] /= 1e6;     prop['latitude'] *= 69\n",
    "prop['longitude'] /= 1e6;    prop['longitude'] *= 57.393401296\n",
    "prop=(prop-prop.mean()).dropna(0)"
   ]
  },
  {
   "cell_type": "code",
   "execution_count": null,
   "metadata": {
    "collapsed": true
   },
   "outputs": [],
   "source": [
    "X = prop.values.copy(order='C')\n",
    "dist_rings = [1,2,5,10,20,30,50]"
   ]
  },
  {
   "cell_type": "code",
   "execution_count": null,
   "metadata": {
    "collapsed": true
   },
   "outputs": [],
   "source": [
    "%%cython\n",
    "import numpy as np\n",
    "cimport numpy as np\n",
    "from libc.math cimport sqrt\n",
    "cimport cython\n",
    "\n",
    "@cython.boundscheck(False)\n",
    "@cython.wraparound(False)\n",
    "def pairwise_v2(np.ndarray[double, ndim=2, mode='c'] X not None, np.int_t n): #mode='c' indicates C-ordered (contiguous in memory)\n",
    "    \n",
    "    cdef np.intp_t i, j, n_samples, N # np.intp: Integer used for indexing (unsigned). _t means the type of it\n",
    "    cdef double tmp, d \n",
    "    n_samples = X.shape[0]\n",
    "    N = X.shape[1]\n",
    "\n",
    "    cdef np.ndarray[np.int_t, ndim=2, mode='c'] D = np.zeros((n,7),dtype=int)\n",
    "    for i in range(n):\n",
    "        for j in range(n_samples):\n",
    "            d = 0\n",
    "            for k in range(N):\n",
    "                tmp = X[i,k] - X[j,k]\n",
    "                d += tmp * tmp\n",
    "            if d<=1:\n",
    "                D[i,0]+=1\n",
    "                D[j,0]+=1\n",
    "            elif d<=4:\n",
    "                D[i,1]+=1\n",
    "                D[j,1]+=1\n",
    "            elif d<=25:\n",
    "                D[i,2]+=1\n",
    "                D[j,2]+=1\n",
    "            elif d<=100:\n",
    "                D[i,3]+=1\n",
    "                D[j,3]+=1\n",
    "            elif d<=400:\n",
    "                D[i,4]+=1\n",
    "                D[j,4]+=1\n",
    "            elif d<=900:\n",
    "                D[i,5]+=1\n",
    "                D[j,5]+=1\n",
    "            elif d<=2500:\n",
    "                D[i,6]+=1\n",
    "                D[j,6]+=1\n",
    "    return D"
   ]
  },
  {
   "cell_type": "code",
   "execution_count": null,
   "metadata": {
    "collapsed": true
   },
   "outputs": [],
   "source": [
    "# Y = pairwise_v2(X,X.shape[0])\n",
    "pd.DataFrame(Y,columns=map(lambda d:\"N{}\".format(d),dist_rings),index=prop.index[:Y.shape[0]]).to_csv('raw/neighbors.csv.bz2',index=True,compression='bz2')"
   ]
  },
  {
   "cell_type": "markdown",
   "metadata": {},
   "source": [
    "## feature engineering"
   ]
  },
  {
   "cell_type": "code",
   "execution_count": null,
   "metadata": {
    "collapsed": true
   },
   "outputs": [],
   "source": [
    "target='logerror'\n",
    "outlier = (-0.5,0.5)\n",
    "dropfeat = ['index','parcelid', 'ParcelId', 'transactiondate', target,'201610','201611','201612','201710','201711','201712']\n",
    "catfeat = ['propertyzoningdesc', 'propertycountylandusecode',\n",
    "           'airconditioningtypeid','architecturalstyletypeid','buildingqualitytypeid',\n",
    "           'heatingorsystemtypeid','propertylandusetypeid','regionidcounty','typeconstructiontypeid',\n",
    "           'N-PropType']\n",
    "boolfeat = ['hashottuborspa', 'fireplaceflag', 'taxdelinquencyflag']\n",
    "numfeat = ['basementsqft', 'bathroomcnt', 'bedroomcnt', 'buildingclasstypeid', 'calculatedbathnbr', 'decktypeid',\n",
    "           'finishedfloor1squarefeet', 'calculatedfinishedsquarefeet', 'finishedsquarefeet12', 'finishedsquarefeet13',\n",
    "           'finishedsquarefeet15', 'finishedsquarefeet50', 'finishedsquarefeet6', 'fips', 'fireplacecnt', 'fullbathcnt',\n",
    "           'garagecarcnt', 'garagetotalsqft', 'latitude', 'longitude', 'lotsizesquarefeet', 'poolcnt', 'poolsizesum',\n",
    "           'pooltypeid10', 'pooltypeid2', 'pooltypeid7', 'rawcensustractandblock', 'regionidcity', 'regionidneighborhood',\n",
    "           'regionidzip', 'roomcnt', 'storytypeid', 'threequarterbathnbr', 'unitcnt', 'yardbuildingsqft17',\n",
    "           'yardbuildingsqft26', 'yearbuilt', 'numberofstories', 'structuretaxvaluedollarcnt', 'taxvaluedollarcnt',\n",
    "           'assessmentyear', 'landtaxvaluedollarcnt', 'taxamount', 'taxdelinquencyyear', 'censustractandblock']"
   ]
  },
  {
   "cell_type": "code",
   "execution_count": null,
   "metadata": {
    "collapsed": true
   },
   "outputs": [],
   "source": [
    "for year in [2016,2017]:\n",
    "    prop=pd.read_csv('raw/properties_{}.csv.zip'.format(year))\n",
    "\n",
    "    prop['N-life'] = 2018 - prop['yearbuilt']\n",
    "    prop['N-LivingAreaError'] = prop['calculatedfinishedsquarefeet']/prop['finishedsquarefeet12']\n",
    "    prop['N-LivingAreaProp'] = prop['calculatedfinishedsquarefeet']/prop['lotsizesquarefeet']\n",
    "    prop['N-LivingAreaProp2'] = prop['finishedsquarefeet12']/prop['finishedsquarefeet15']\n",
    "    prop['N-ExtraSpace'] = prop['lotsizesquarefeet'] - prop['calculatedfinishedsquarefeet'] \n",
    "    prop['N-ExtraSpace-2'] = prop['finishedsquarefeet15'] - prop['finishedsquarefeet12'] \n",
    "    prop['N-TotalRooms'] = prop['bathroomcnt']+prop['bedroomcnt']\n",
    "    prop['N-AvRoomSize'] = prop['calculatedfinishedsquarefeet']/prop['roomcnt'] \n",
    "    prop['N-ExtraRooms'] = prop['roomcnt'] - prop['N-TotalRooms'] \n",
    "    prop['N-ValueProp'] = prop['structuretaxvaluedollarcnt']/prop['landtaxvaluedollarcnt']\n",
    "    prop['N-GarPoolAC'] = ((prop['garagecarcnt']>0) & (prop['pooltypeid10']>0) & (prop['airconditioningtypeid']!=5))*1 \n",
    "    prop[\"N-location\"] = prop[\"latitude\"] + prop[\"longitude\"]\n",
    "    prop[\"N-location-2\"] = prop[\"latitude\"]*prop[\"longitude\"]\n",
    "    prop[\"N-location-2round\"] = prop[\"N-location-2\"].round(-4)\n",
    "    prop[\"N-latitude-round\"] = prop[\"latitude\"].round(-4)\n",
    "    prop[\"N-longitude-round\"] = prop[\"longitude\"].round(-4)\n",
    "\n",
    "    prop['N-ValueRatio'] = prop['taxvaluedollarcnt']/prop['taxamount']\n",
    "    prop['N-TaxScore'] = prop['taxvaluedollarcnt']*prop['taxamount']\n",
    "    prop[\"N-taxdelinquencyyear-2\"] = prop[\"taxdelinquencyyear\"] ** 2\n",
    "    prop[\"N-taxdelinquencyyear-3\"] = prop[\"taxdelinquencyyear\"] ** 3\n",
    "    prop['N-life_tax'] = year - prop['taxdelinquencyyear']\n",
    "    zip_count = prop['regionidzip'].value_counts().to_dict()\n",
    "    prop['N-zip_count'] = prop['regionidzip'].map(zip_count)\n",
    "    city_count = prop['regionidcity'].value_counts().to_dict()\n",
    "    prop['N-city_count'] = prop['regionidcity'].map(city_count)\n",
    "    region_count = prop['regionidcounty'].value_counts().to_dict()\n",
    "    prop['N-county_count'] = prop['regionidcounty'].map(region_count)\n",
    "\n",
    "    prop['N-ACInd'] = (prop['airconditioningtypeid']!=5)*1\n",
    "    prop['N-HeatInd'] = (prop['heatingorsystemtypeid']!=13)*1\n",
    "    prop['N-PropType'] = prop.propertylandusetypeid.replace({31 : \"Mixed\", 46 : \"Other\", 47 : \"Mixed\", 246 : \"Mixed\", 247 : \"Mixed\", 248 : \"Mixed\", 260 : \"Home\", 261 : \"Home\", 262 : \"Home\", 263 : \"Home\", 264 : \"Home\", 265 : \"Home\", 266 : \"Home\", 267 : \"Home\", 268 : \"Home\", 269 : \"Not Built\", 270 : \"Home\", 271 : \"Home\", 273 : \"Home\", 274 : \"Other\", 275 : \"Home\", 276 : \"Home\", 279 : \"Home\", 290 : \"Not Built\", 291 : \"Not Built\" })\n",
    "    prop[\"N-structuretaxvaluedollarcnt-2\"] = prop[\"structuretaxvaluedollarcnt\"] ** 2\n",
    "    prop[\"N-structuretaxvaluedollarcnt-3\"] = prop[\"structuretaxvaluedollarcnt\"] ** 3\n",
    "\n",
    "    group = prop.groupby('regionidcity')['structuretaxvaluedollarcnt'].aggregate('mean').to_dict()\n",
    "    prop['N-Avg-structuretaxvaluedollarcnt'] = prop['regionidcity'].map(group)\n",
    "    prop['N-Dev-structuretaxvaluedollarcnt'] = abs((prop['structuretaxvaluedollarcnt'] - prop['N-Avg-structuretaxvaluedollarcnt']))/prop['N-Avg-structuretaxvaluedollarcnt']\n",
    "\n",
    "    prop['latitude'] /= 1e6;     prop['latitude'] *= 69\n",
    "    prop['longitude'] /= 1e6;    prop['longitude'] *= 57.393401296\n",
    "    prop['dist_from_cent'] = np.sqrt((prop['latitude']-prop['latitude'].mean())**2+(prop['longitude']-prop['longitude'].mean())**2)\n",
    "\n",
    "    dist = pd.read_csv('raw/neighbors.csv.bz2')\n",
    "    for i in xrange(1,7): dist.iloc[:,i+1]+=dist.iloc[:,i]\n",
    "    prop = prop.merge(dist,how='left',on='parcelid')\n",
    "    train=pd.read_csv('raw/train_{}.csv.zip'.format(year)).sort_values('transactiondate')\n",
    "    for c, dtype in zip(prop.columns, prop.dtypes): \n",
    "        if dtype == np.float64:\n",
    "            prop[c] = prop[c].astype(np.float32)\n",
    "\n",
    "    train = train.merge(prop, how='left', on='parcelid')\n",
    "    train.transactiondate=pd.to_datetime(train.transactiondate)\n",
    "\n",
    "    if year==2016: traincomb=train\n",
    "    else: traincomb=pd.concat((traincomb,train)).reset_index()\n",
    "\n",
    "train=traincomb\n",
    "test=pd.read_csv('raw/sample_submission.csv.zip')\n",
    "test['parcelid'] = test['ParcelId']\n",
    "test = test.merge(prop, how='left', on='parcelid')\n",
    "for c in boolfeat:\n",
    "    test[c] = (test[c] == train[c].dropna().iloc[0])\n",
    "    train[c] = (train[c] == train[c].dropna().iloc[0])\n",
    "for c in catfeat:\n",
    "    enc = pd.factorize(pd.concat((train[c],test[c])),sort=False, na_sentinel=0)[0].astype(int) #sort=True gives 0\n",
    "    train[c]=enc[:train.shape[0]]\n",
    "    test[c]=enc[train.shape[0]:]\n",
    "    test[c].iloc[np.where(~test[c].isin(set(train[c].values)))]=np.nan\n",
    "train['month']=train.transactiondate.dt.month\n",
    "train['year']=train.transactiondate.dt.year\n",
    "trainN=train.shape[0]\n",
    "cols=[c for c in train if c not in dropfeat]\n",
    "extra_y=train[['month',target]]"
   ]
  },
  {
   "cell_type": "markdown",
   "metadata": {},
   "source": [
    "# Level-1"
   ]
  },
  {
   "cell_type": "code",
   "execution_count": null,
   "metadata": {
    "collapsed": true
   },
   "outputs": [],
   "source": [
    "ms=np.append(np.where(extra_y['month']!=extra_y['month'].shift())[0],train.shape[0])\n",
    "train2=pd.DataFrame(index=train.index[ms[13]:],columns=[])\n",
    "test2=pd.DataFrame(index=test.index,columns=[])"
   ]
  },
  {
   "cell_type": "code",
   "execution_count": null,
   "metadata": {
    "collapsed": true
   },
   "outputs": [],
   "source": [
    "trainvaltestpred=\\\n",
    "[(np.r_[range(ms[1]),range(ms[1],ms[2],2),range(ms[2],ms[12]),range(ms[12],ms[13],2),range(ms[14],ms[-1])], np.r_[range(ms[12]+1,ms[13],2),range(ms[1]+1,ms[2],2)], range(ms[13],ms[14]), [] ), \n",
    " (np.r_[range(ms[2]),range(ms[2],ms[3],2),range(ms[3],ms[13]),range(ms[13],ms[14],2),range(ms[15],ms[-1])], np.r_[range(ms[13]+1,ms[14],2),range(ms[2]+1,ms[3],2)], range(ms[14],ms[15]), [] ), \n",
    " (np.r_[range(ms[3]),range(ms[3],ms[4],2),range(ms[4],ms[14]),range(ms[14],ms[15],2),range(ms[16],ms[-1])], np.r_[range(ms[14]+1,ms[15],2),range(ms[3]+1,ms[4],2)], range(ms[15],ms[16]), [] ), \n",
    " (np.r_[range(ms[4]),range(ms[4],ms[5],2),range(ms[5],ms[15]),range(ms[15],ms[16],2),range(ms[17],ms[-1])], np.r_[range(ms[15]+1,ms[16],2),range(ms[4]+1,ms[5],2)], range(ms[16],ms[17]), [] ), \n",
    " (np.r_[range(ms[5]),range(ms[5],ms[6],2),range(ms[6],ms[16]),range(ms[16],ms[17],2),range(ms[18],ms[-1])], np.r_[range(ms[16]+1,ms[17],2),range(ms[5]+1,ms[6],2)], range(ms[17],ms[18]), [] ), \n",
    " (np.r_[range(ms[6]),range(ms[6],ms[7],2),range(ms[7],ms[17]),range(ms[17],ms[18],2),range(ms[19],ms[-1])], np.r_[range(ms[17]+1,ms[18],2),range(ms[6]+1,ms[7],2)], range(ms[18],ms[19]), [] ), \n",
    " (np.r_[range(ms[7]),range(ms[7],ms[8],2),range(ms[8],ms[18]),range(ms[18],ms[19],2),range(ms[20],ms[-1])], np.r_[range(ms[18]+1,ms[19],2),range(ms[7]+1,ms[8],2)], range(ms[19],ms[20]), [] ), \n",
    " (np.r_[range(ms[8]),range(ms[8],ms[9],2),range(ms[9],ms[19]),range(ms[19],ms[20],2),range(ms[21],ms[-1])], np.r_[range(ms[19]+1,ms[20],2),range(ms[8]+1,ms[9],2)], range(ms[20],ms[21]), [] ), \n",
    " (np.r_[range(ms[ 9]),range(ms[10],ms[20]),range(ms[20],ms[21],2)], np.r_[range(ms[20]+1,ms[21],2),range(ms[ 9],ms[10])], range(ms[20],ms[21]), [10] ), \n",
    " (np.r_[range(ms[10]),range(ms[11],ms[20]),range(ms[20],ms[21],2)], np.r_[range(ms[20]+1,ms[21],2),range(ms[10],ms[11])], range(ms[20],ms[21]), [11] ), \n",
    " (np.r_[range(ms[11]),range(ms[12],ms[20]),range(ms[20],ms[21],2)], np.r_[range(ms[20]+1,ms[21],2),range(ms[11],ms[12])], range(ms[20],ms[21]), [12] ), \n",
    "]\n",
    "patience=100  #for early stopping\n",
    "maxncols=500\n",
    "nmonths=8"
   ]
  },
  {
   "cell_type": "markdown",
   "metadata": {},
   "source": [
    "## Level-1 xgboost"
   ]
  },
  {
   "cell_type": "code",
   "execution_count": null,
   "metadata": {
    "collapsed": true
   },
   "outputs": [],
   "source": [
    "xgbparams ={'eta': 0.01,'max_depth': 5,'subsample': .7,'colsample_bytree': 0.7,\n",
    "            'objective': 'reg:linear','eval_metric': 'mae','silent': 1}\n",
    "plist = [[1.142214,0.207717,7,0.993270],\n",
    "         [2.883730,0.121081,9,0.969598],\n",
    "         [2.566404,0.160620,10,0.909566]]\n",
    "clist = [['airconditioningtypeid','architecturalstyletypeid','basementsqft','bathroomcnt','bedroomcnt','buildingclasstypeid','buildingqualitytypeid','calculatedbathnbr','decktypeid','finishedfloor1squarefeet','calculatedfinishedsquarefeet','finishedsquarefeet12','finishedsquarefeet13','finishedsquarefeet15','finishedsquarefeet50','finishedsquarefeet6','fips','fireplacecnt','fullbathcnt','garagecarcnt','garagetotalsqft','hashottuborspa','heatingorsystemtypeid','latitude','longitude','lotsizesquarefeet','poolcnt','poolsizesum','pooltypeid10','pooltypeid2','pooltypeid7','propertycountylandusecode','propertylandusetypeid','propertyzoningdesc','rawcensustractandblock','regionidcity','regionidcounty','regionidneighborhood','regionidzip','roomcnt','storytypeid','threequarterbathnbr','unitcnt','yardbuildingsqft17','yardbuildingsqft26','yearbuilt','numberofstories','fireplaceflag','structuretaxvaluedollarcnt','taxvaluedollarcnt','assessmentyear','landtaxvaluedollarcnt','taxamount','taxdelinquencyflag','taxdelinquencyyear','censustractandblock','N-life','N-LivingAreaError','N-LivingAreaProp','N-ExtraSpace','N-TotalRooms','N-AvRoomSize','N-ExtraRooms','N-ValueProp','N-GarPoolAC','N-location','N-location-2','N-location-2round','N-latitude-round','N-longitude-round','N-ValueRatio','N-TaxScore','N-taxdelinquencyyear-2','N-taxdelinquencyyear-3','N-life_tax','N-zip_count','N-city_count','N-county_count','N-ACInd','N-HeatInd','N-PropType','N-structuretaxvaluedollarcnt-2','N-structuretaxvaluedollarcnt-3','N-Avg-structuretaxvaluedollarcnt','N-Dev-structuretaxvaluedollarcnt','dist_from_cent','N1','N2','N5','N10','N20','N30','N50','month','year'],\n",
    "         ['airconditioningtypeid','architecturalstyletypeid','basementsqft','bathroomcnt','bedroomcnt','buildingclasstypeid','buildingqualitytypeid','calculatedbathnbr','decktypeid','finishedfloor1squarefeet','calculatedfinishedsquarefeet','finishedsquarefeet12','finishedsquarefeet13','finishedsquarefeet15','finishedsquarefeet50','finishedsquarefeet6','fips','fireplacecnt','fullbathcnt','garagecarcnt','garagetotalsqft','hashottuborspa','heatingorsystemtypeid','latitude','longitude','lotsizesquarefeet','poolcnt','poolsizesum','pooltypeid2','pooltypeid7','propertycountylandusecode','propertylandusetypeid','propertyzoningdesc','rawcensustractandblock','regionidcity','regionidcounty','regionidneighborhood','regionidzip','roomcnt','storytypeid','threequarterbathnbr','unitcnt','yardbuildingsqft17','yardbuildingsqft26','yearbuilt','numberofstories','fireplaceflag','structuretaxvaluedollarcnt','taxvaluedollarcnt','assessmentyear','landtaxvaluedollarcnt','taxamount','taxdelinquencyflag','taxdelinquencyyear','censustractandblock','N-life','N-LivingAreaError','N-LivingAreaProp','N-LivingAreaProp2','N-ExtraSpace','N-TotalRooms','N-AvRoomSize','N-ExtraRooms','N-ValueProp','N-GarPoolAC','N-location','N-location-2','N-location-2round','N-latitude-round','N-longitude-round','N-ValueRatio','N-TaxScore','N-taxdelinquencyyear-2','N-taxdelinquencyyear-3','N-life_tax','N-zip_count','N-city_count','N-county_count','N-ACInd','N-HeatInd','N-PropType','N-structuretaxvaluedollarcnt-2','N-structuretaxvaluedollarcnt-3','N-Avg-structuretaxvaluedollarcnt','N-Dev-structuretaxvaluedollarcnt','dist_from_cent','N1','N2','N5','N10','N20','N30','N50','month','year'],\n",
    "         ['airconditioningtypeid','architecturalstyletypeid','basementsqft','bathroomcnt','bedroomcnt','buildingclasstypeid','buildingqualitytypeid','calculatedbathnbr','decktypeid','finishedfloor1squarefeet','calculatedfinishedsquarefeet','finishedsquarefeet12','finishedsquarefeet13','finishedsquarefeet15','finishedsquarefeet50','finishedsquarefeet6','fips','fireplacecnt','fullbathcnt','garagecarcnt','garagetotalsqft','hashottuborspa','heatingorsystemtypeid','latitude','longitude','lotsizesquarefeet','poolcnt','poolsizesum','pooltypeid10','pooltypeid2','pooltypeid7','propertycountylandusecode','propertylandusetypeid','propertyzoningdesc','rawcensustractandblock','regionidcity','regionidcounty','regionidneighborhood','regionidzip','roomcnt','storytypeid','threequarterbathnbr','typeconstructiontypeid','unitcnt','yardbuildingsqft17','yardbuildingsqft26','yearbuilt','numberofstories','fireplaceflag','structuretaxvaluedollarcnt','taxvaluedollarcnt','assessmentyear','landtaxvaluedollarcnt','taxamount','taxdelinquencyflag','taxdelinquencyyear','censustractandblock','N-life','N-LivingAreaError','N-LivingAreaProp','N-ExtraSpace','N-TotalRooms','N-AvRoomSize','N-ExtraRooms','N-ValueProp','N-GarPoolAC','N-location','N-location-2','N-location-2round','N-latitude-round','N-longitude-round','N-ValueRatio','N-TaxScore','N-taxdelinquencyyear-2','N-taxdelinquencyyear-3','N-life_tax','N-zip_count','N-city_count','N-county_count','N-ACInd','N-HeatInd','N-PropType','N-structuretaxvaluedollarcnt-2','N-structuretaxvaluedollarcnt-3','N-Avg-structuretaxvaluedollarcnt','N-Dev-structuretaxvaluedollarcnt','dist_from_cent','N1','N2','N5','N10','N20','N30','N50','month','year']]\n",
    "def fair_obj(preds, dtrain):\n",
    "    labels = dtrain.get_label()\n",
    "    x = preds-labels\n",
    "    con = np.average(np.abs(x))*.9\n",
    "    grad = con*x / (np.abs(x)+con)\n",
    "    hess = con**2 / (np.abs(x)+con)**2\n",
    "    return grad, hess"
   ]
  },
  {
   "cell_type": "code",
   "execution_count": null,
   "metadata": {
    "collapsed": true
   },
   "outputs": [],
   "source": [
    "for i in range(len(plist)):\n",
    "    xgbp = xgbparams.copy()\n",
    "    xgbp['alpha']=plist[i][0]\n",
    "    xgbp['colsample_bytree'] = plist[i][1]\n",
    "    xgbp['max_depth'] = plist[i][2]\n",
    "    xgbp['subsample'] = plist[i][3]\n",
    "    chosen = clist[i]\n",
    "    train_x = train.ix[:,chosen]\n",
    "    test_x = test.ix[:,chosen]\n",
    "    train_y = extra_y[target]\n",
    "    train2col = pd.Series(index=train.index)\n",
    "    for (trai,vali,tesi,predm) in trainvaltestpred:\n",
    "        X_tra, y_tra = train_x.iloc[trai], train_y.iloc[trai]\n",
    "        X_val, y_val = train_x.iloc[vali], train_y.iloc[vali]\n",
    "        X_tes, y_tes = train_x.iloc[tesi], train_y.iloc[tesi]\n",
    "        d_tra = xgb.DMatrix(X_tra, label=y_tra)\n",
    "        d_val = xgb.DMatrix(X_val, label=y_val)\n",
    "        d_tes = xgb.DMatrix(X_tes, label=y_tes)\n",
    "        model = xgb.train(xgbp,d_tra,\n",
    "                          num_boost_round=100000,\n",
    "                          evals=[(d_val, 'eval')],\n",
    "                          early_stopping_rounds=patience,\n",
    "                          obj=fair_obj,\n",
    "                          verbose_eval=1000)\n",
    "        if X_tes.shape[0]:\n",
    "            train2col.iloc[tesi]=model.predict(d_tes,ntree_limit=model.best_ntree_limit)\n",
    "        for month in predm:\n",
    "            if 'month' in test_x: test_x.month=month\n",
    "            if 'year' in test_x: test_x.year=2017\n",
    "            d_test = xgb.DMatrix(test_x)\n",
    "            test2['2017%d_xgb%d'%(month,i)]=model.predict(d_test,ntree_limit=model.best_ntree_limit)\n",
    "    train2['xgb%d'%i]=train2col.iloc[ms[13]:]"
   ]
  },
  {
   "cell_type": "code",
   "execution_count": null,
   "metadata": {},
   "outputs": [],
   "source": [
    "train2.columns"
   ]
  },
  {
   "cell_type": "markdown",
   "metadata": {},
   "source": [
    "## Level-1 lightgbm"
   ]
  },
  {
   "cell_type": "code",
   "execution_count": null,
   "metadata": {
    "collapsed": true
   },
   "outputs": [],
   "source": [
    "lgbparams ={'learning_rate': 0.002,'max_bin':10,'bagging_freq':20,'bagging_fraction':.85,\n",
    "            'objective': 'regression_l1','metric': 'mae','silent': 1}\n",
    "plist = [[0.838503,6.947982,7.765055,6.666210,0.480870],\n",
    "         [0.916033,7.015071,6.215446,9.446752,0.173594],\n",
    "         [0.500000,12.969876,8.000000,8.077548,0.988285]]\n",
    "clist = [['airconditioningtypeid','architecturalstyletypeid','basementsqft','bathroomcnt','bedroomcnt','buildingclasstypeid','buildingqualitytypeid','calculatedbathnbr','decktypeid','finishedfloor1squarefeet','calculatedfinishedsquarefeet','finishedsquarefeet12','finishedsquarefeet15','finishedsquarefeet50','finishedsquarefeet6','fips','fireplacecnt','fullbathcnt','garagecarcnt','garagetotalsqft','hashottuborspa','heatingorsystemtypeid','latitude','longitude','lotsizesquarefeet','poolcnt','poolsizesum','pooltypeid10','pooltypeid2','pooltypeid7','propertycountylandusecode','propertylandusetypeid','propertyzoningdesc','rawcensustractandblock','regionidcity','regionidcounty','regionidneighborhood','regionidzip','roomcnt','threequarterbathnbr','unitcnt','yardbuildingsqft17','yardbuildingsqft26','yearbuilt','numberofstories','fireplaceflag','structuretaxvaluedollarcnt','taxvaluedollarcnt','assessmentyear','landtaxvaluedollarcnt','taxamount','taxdelinquencyflag','taxdelinquencyyear','censustractandblock','N-life','N-LivingAreaError','N-LivingAreaProp','N-ExtraSpace','N-TotalRooms','N-AvRoomSize','N-ExtraRooms','N-ValueProp','N-location','N-location-2','N-location-2round','N-latitude-round','N-longitude-round','N-ValueRatio','N-TaxScore','N-taxdelinquencyyear-2','N-taxdelinquencyyear-3','N-life_tax','N-zip_count','N-city_count','N-county_count','N-ACInd','N-PropType','N-structuretaxvaluedollarcnt-2','N-structuretaxvaluedollarcnt-3','N-Avg-structuretaxvaluedollarcnt','N-Dev-structuretaxvaluedollarcnt','dist_from_cent','N1','N2','N5','N10','N20','N30','N50','month','year'],\n",
    "         ['airconditioningtypeid','bathroomcnt','bedroomcnt','buildingqualitytypeid','calculatedbathnbr','decktypeid','finishedfloor1squarefeet','calculatedfinishedsquarefeet','finishedsquarefeet12','finishedsquarefeet15','finishedsquarefeet50','finishedsquarefeet6','fips','fireplacecnt','fullbathcnt','garagecarcnt','garagetotalsqft','hashottuborspa','heatingorsystemtypeid','latitude','longitude','lotsizesquarefeet','poolcnt','poolsizesum','pooltypeid10','pooltypeid2','pooltypeid7','propertycountylandusecode','propertylandusetypeid','propertyzoningdesc','rawcensustractandblock','regionidcity','regionidcounty','regionidneighborhood','regionidzip','roomcnt','threequarterbathnbr','unitcnt','yardbuildingsqft17','yardbuildingsqft26','yearbuilt','numberofstories','fireplaceflag','structuretaxvaluedollarcnt','taxvaluedollarcnt','assessmentyear','landtaxvaluedollarcnt','taxamount','taxdelinquencyyear','censustractandblock','N-life','N-LivingAreaError','N-LivingAreaProp','N-ExtraSpace','N-TotalRooms','N-AvRoomSize','N-ExtraRooms','N-ValueProp','N-location','N-location-2','N-location-2round','N-latitude-round','N-longitude-round','N-ValueRatio','N-TaxScore','N-taxdelinquencyyear-3','N-life_tax','N-zip_count','N-city_count','N-county_count','N-PropType','N-structuretaxvaluedollarcnt-2','N-structuretaxvaluedollarcnt-3','N-Avg-structuretaxvaluedollarcnt','N-Dev-structuretaxvaluedollarcnt','dist_from_cent','N1','N2','N5','N10','N20','N30','N50','month','year'],\n",
    "         ['airconditioningtypeid','basementsqft','bathroomcnt','bedroomcnt','buildingclasstypeid','buildingqualitytypeid','calculatedbathnbr','decktypeid','finishedfloor1squarefeet','calculatedfinishedsquarefeet','finishedsquarefeet12','finishedsquarefeet13','finishedsquarefeet15','finishedsquarefeet50','finishedsquarefeet6','fips','fireplacecnt','fullbathcnt','garagecarcnt','garagetotalsqft','hashottuborspa','heatingorsystemtypeid','latitude','longitude','lotsizesquarefeet','poolcnt','poolsizesum','pooltypeid10','pooltypeid2','pooltypeid7','propertycountylandusecode','propertylandusetypeid','propertyzoningdesc','rawcensustractandblock','regionidcity','regionidcounty','regionidneighborhood','regionidzip','roomcnt','threequarterbathnbr','unitcnt','yardbuildingsqft17','yardbuildingsqft26','yearbuilt','numberofstories','structuretaxvaluedollarcnt','taxvaluedollarcnt','assessmentyear','landtaxvaluedollarcnt','taxamount','taxdelinquencyflag','taxdelinquencyyear','censustractandblock','N-life','N-LivingAreaError','N-LivingAreaProp','N-ExtraSpace','N-TotalRooms','N-AvRoomSize','N-ExtraRooms','N-ValueProp','N-GarPoolAC','N-location','N-location-2','N-location-2round','N-latitude-round','N-longitude-round','N-ValueRatio','N-TaxScore','N-taxdelinquencyyear-2','N-taxdelinquencyyear-3','N-life_tax','N-zip_count','N-city_count','N-county_count','N-PropType','N-structuretaxvaluedollarcnt-2','N-structuretaxvaluedollarcnt-3','N-Avg-structuretaxvaluedollarcnt','N-Dev-structuretaxvaluedollarcnt','dist_from_cent','N1','N2','N5','N10','N20','N30','N50','month','year']]"
   ]
  },
  {
   "cell_type": "code",
   "execution_count": null,
   "metadata": {
    "collapsed": true
   },
   "outputs": [],
   "source": [
    "for i in range(len(plist)):\n",
    "    lgbp = lgbparams.copy()\n",
    "    lgbp['bagging_fraction']=plist[i][0]\n",
    "    lgbp['max_bin'] = int(2**plist[i][1])\n",
    "    lgbp['min_data'] = int(2**plist[i][2])\n",
    "    lgbp['num_leaves'] = int(2**plist[i][3])\n",
    "    lgbp['sub_feature'] = plist[i][4]\n",
    "    chosen = clist[i]\n",
    "    chosencat = [c for c in chosen if c in catfeat]\n",
    "    train_x = train.ix[:,chosen]\n",
    "    test_x = test.ix[:,chosen]\n",
    "    train_y = extra_y[target]\n",
    "    train2col = pd.Series(index=train.index)\n",
    "    for (trai,vali,tesi,predm) in trainvaltestpred:\n",
    "        X_tra, y_tra = train_x.iloc[trai], train_y.iloc[trai]\n",
    "        X_val, y_val = train_x.iloc[vali], train_y.iloc[vali]\n",
    "        X_tes, y_tes = train_x.iloc[tesi], train_y.iloc[tesi]\n",
    "        d_tra = lgb.Dataset(X_tra, label=y_tra, silent=True)\n",
    "        d_val = lgb.Dataset(X_val, label=y_val, silent=True)\n",
    "        d_tes = lgb.Dataset(X_tes, label=y_tes, silent=True)\n",
    "        model = lgb.train(lgbp,d_tra,num_boost_round=100000,early_stopping_rounds=patience,\n",
    "                          categorical_feature=chosencat,\n",
    "                          valid_sets=[d_val],valid_names=['val'],\n",
    "                          verbose_eval=1000)\n",
    "        if X_tes.shape[0]:\n",
    "            train2col.iloc[tesi]=model.predict(X_tes,num_iteration=model.best_iteration)\n",
    "        for month in predm:\n",
    "            if 'month' in test_x: test_x.month=month\n",
    "            if 'year' in test_x: test_x.year=2017\n",
    "            test2['2017%d_lgb%d'%(month,i)]=model.predict(test_x,num_iteration=model.best_iteration)\n",
    "    train2['lgb%d'%i]=train2col.iloc[ms[13]:]"
   ]
  },
  {
   "cell_type": "markdown",
   "metadata": {},
   "source": [
    "# Level-2"
   ]
  },
  {
   "cell_type": "code",
   "execution_count": null,
   "metadata": {
    "collapsed": true
   },
   "outputs": [],
   "source": [
    "test3=pd.DataFrame(index=test.index,columns=[])"
   ]
  },
  {
   "cell_type": "markdown",
   "metadata": {},
   "source": [
    "## Level-2 xgboost"
   ]
  },
  {
   "cell_type": "code",
   "execution_count": null,
   "metadata": {},
   "outputs": [],
   "source": [
    "xgbp = {'eta':0.01, 'objective':'reg:linear','eval_metric':'mae','silent':1,\n",
    "        'alpha':0.217198, 'colsample_bytree':0.734576, 'max_depth':2, 'subsample':0.678575}\n",
    "def fair_obj(preds, dtrain):\n",
    "    labels = dtrain.get_label()\n",
    "    x = preds-labels\n",
    "    con = np.average(np.abs(x))\n",
    "    grad = con*x / (np.abs(x)+con)\n",
    "    hess = con**2 / (np.abs(x)+con)**2\n",
    "    return grad, hess\n",
    "\n",
    "train_x = train2\n",
    "test_x = test2\n",
    "train_y = extra_y[target].tail(train_x.shape[0])\n",
    "d_tr = xgb.DMatrix(train_x, label=train_y)      \n",
    "cv = xgb.cv(xgbp,d_tr,nfold=20,num_boost_round=100000,early_stopping_rounds=patience,obj=fair_obj,\n",
    "            verbose_eval=1000, show_stdv=False)\n",
    "model = xgb.train(xgbp,d_tr,num_boost_round=cv.shape[0],verbose_eval=1000)\n",
    "\n",
    "for month in [10,11,12]:\n",
    "    if 'month' in train_x: test_x['month']=month\n",
    "    if 'year' in train_x: test_x['year']=2017\n",
    "    for c in train_x.columns:\n",
    "        test_x[c]=test2['2017{}'.format(month)+'_'+c]\n",
    "    d_test = xgb.DMatrix(test_x[train_x.columns])\n",
    "    test3['2017%d_xgb'%month] = model.predict(d_test)"
   ]
  },
  {
   "cell_type": "markdown",
   "metadata": {},
   "source": [
    "## Level-2 lightgbm"
   ]
  },
  {
   "cell_type": "code",
   "execution_count": null,
   "metadata": {},
   "outputs": [],
   "source": [
    "lgbp = {'learning_rate': 0.005,'objective': 'regression_l1','metric': 'mae',\n",
    "        'bagging_fraction':0.976674,'sub_feature':0.709602,\n",
    "        'max_bin':495,'min_data':3,'num_leaves':3}\n",
    "\n",
    "train_x = train2\n",
    "test_x = test2\n",
    "train_y = extra_y[target].tail(train_x.shape[0])\n",
    "d_tr = lgb.Dataset(train_x, label=train_y, silent=True)\n",
    "cv = lgb.cv(lgbp,d_tr,nfold=20,stratified=False,\n",
    "            num_boost_round=100000,early_stopping_rounds=patience,\n",
    "            verbose_eval=1000)\n",
    "cv = pd.DataFrame.from_dict(cv)\n",
    "model = lgb.train(lgbp,d_tr,num_boost_round=cv.shape[0],verbose_eval=1000)\n",
    "\n",
    "for month in [10,11,12]:\n",
    "    if 'month' in train_x: test_x['month']=month\n",
    "    if 'year' in train_x: test_x['year']=2017\n",
    "    for c in train_x.columns:\n",
    "        test_x[c]=test2['2017{}'.format(month)+'_'+c]\n",
    "    test3['2017%d_lgb'%month] = model.predict(test_x)"
   ]
  },
  {
   "cell_type": "code",
   "execution_count": null,
   "metadata": {},
   "outputs": [],
   "source": [
    "test3.columns"
   ]
  },
  {
   "cell_type": "markdown",
   "metadata": {},
   "source": [
    "# Level-3 Blending"
   ]
  },
  {
   "cell_type": "code",
   "execution_count": null,
   "metadata": {
    "collapsed": true
   },
   "outputs": [],
   "source": [
    "xgbweight=0.2\n",
    "test3['ParcelId']=prop['parcelid']\n",
    "xgbc=[c for c in test3 if 'xgb' in c]\n",
    "lgbc=[c for c in test3 if 'lgb' in c]\n",
    "for month in [10,11,12]:\n",
    "    pref16='2016{}'.format(month)\n",
    "    pref17='2017{}'.format(month)\n",
    "    test3[pref16]=xgbweight*test3[[c for c in xgbc if c.startswith(pref17)]].mean(1) +\\\n",
    "                  (1-xgbweight)*test3[[c for c in lgbc if c.startswith(pref17)]].mean(1)\n",
    "    test3[pref17]=xgbweight*test3[[c for c in xgbc if c.startswith(pref17)]].mean(1) +\\\n",
    "                  (1-xgbweight)*test3[[c for c in lgbc if c.startswith(pref17)]].mean(1)\n",
    "test3.to_csv('out.csv',columns=['ParcelId','201610','201611','201612','201710','201711','201712'],\n",
    "         index=False,float_format='%.4f')"
   ]
  },
  {
   "cell_type": "code",
   "execution_count": null,
   "metadata": {
    "collapsed": true
   },
   "outputs": [],
   "source": []
  }
 ],
 "metadata": {
  "kernelspec": {
   "display_name": "Python 2",
   "language": "python",
   "name": "python2"
  },
  "language_info": {
   "codemirror_mode": {
    "name": "ipython",
    "version": 2
   },
   "file_extension": ".py",
   "mimetype": "text/x-python",
   "name": "python",
   "nbconvert_exporter": "python",
   "pygments_lexer": "ipython2",
   "version": "2.7.13"
  }
 },
 "nbformat": 4,
 "nbformat_minor": 2
}
